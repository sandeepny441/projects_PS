{
 "cells": [
  {
   "cell_type": "code",
   "execution_count": 1,
   "id": "591ddf3d",
   "metadata": {},
   "outputs": [],
   "source": [
    "import pandas as pd\n",
    "import numpy as np"
   ]
  },
  {
   "cell_type": "code",
   "execution_count": 2,
   "id": "81da1487",
   "metadata": {},
   "outputs": [],
   "source": [
    "from IPython.core.interactiveshell import InteractiveShell\n",
    "InteractiveShell.ast_node_interactivity = \"all\""
   ]
  },
  {
   "cell_type": "code",
   "execution_count": 3,
   "id": "ffb43dfe",
   "metadata": {},
   "outputs": [],
   "source": [
    "flights = pd.read_csv('data/flights.csv')"
   ]
  },
  {
   "cell_type": "code",
   "execution_count": 4,
   "id": "ca401a01",
   "metadata": {},
   "outputs": [],
   "source": [
    "flights_ct = flights.groupby(['ORG_AIR', 'DEST_AIR']).size()"
   ]
  },
  {
   "cell_type": "code",
   "execution_count": 5,
   "id": "ceb0676e",
   "metadata": {},
   "outputs": [
    {
     "data": {
      "text/plain": [
       "ORG_AIR  DEST_AIR\n",
       "ATL      ABE         31\n",
       "         ABQ         16\n",
       "         ABY         19\n",
       "         ACY          6\n",
       "         AEX         40\n",
       "dtype: int64"
      ]
     },
     "execution_count": 5,
     "metadata": {},
     "output_type": "execute_result"
    }
   ],
   "source": [
    "flights_ct.head()"
   ]
  },
  {
   "cell_type": "code",
   "execution_count": 6,
   "id": "3d75cabc",
   "metadata": {},
   "outputs": [
    {
     "data": {
      "text/plain": [
       "ORG_AIR  DEST_AIR\n",
       "SFO      SNA         122\n",
       "         STL          20\n",
       "         SUN          10\n",
       "         TUS          20\n",
       "         XNA           2\n",
       "dtype: int64"
      ]
     },
     "execution_count": 6,
     "metadata": {},
     "output_type": "execute_result"
    }
   ],
   "source": [
    "flights_ct.tail()"
   ]
  },
  {
   "cell_type": "code",
   "execution_count": 7,
   "id": "8675abb6",
   "metadata": {},
   "outputs": [],
   "source": [
    "### get total flights between 'Houston' and 'Atlanta'"
   ]
  },
  {
   "cell_type": "code",
   "execution_count": 8,
   "id": "6b73cb29",
   "metadata": {},
   "outputs": [
    {
     "data": {
      "text/plain": [
       "ORG_AIR  DEST_AIR\n",
       "ATL      IAH         121\n",
       "IAH      ATL         148\n",
       "dtype: int64"
      ]
     },
     "execution_count": 8,
     "metadata": {},
     "output_type": "execute_result"
    }
   ],
   "source": [
    "flights_ct.loc[[('ATL', 'IAH'), ('IAH', 'ATL')]] # multi index"
   ]
  },
  {
   "cell_type": "code",
   "execution_count": 9,
   "id": "7464fba4",
   "metadata": {},
   "outputs": [
    {
     "data": {
      "text/plain": [
       "269"
      ]
     },
     "execution_count": 9,
     "metadata": {},
     "output_type": "execute_result"
    }
   ],
   "source": [
    "flights_ct.loc[[('ATL', 'IAH'), ('IAH', 'ATL')]].sum()"
   ]
  },
  {
   "cell_type": "code",
   "execution_count": 10,
   "id": "e555edea",
   "metadata": {},
   "outputs": [],
   "source": [
    "### finding number of flights across all states"
   ]
  },
  {
   "cell_type": "code",
   "execution_count": 17,
   "id": "9eadc700",
   "metadata": {},
   "outputs": [],
   "source": [
    "flights_sorted = flights[['ORG_AIR', 'DEST_AIR']].apply(sorted, axis=1)"
   ]
  },
  {
   "cell_type": "code",
   "execution_count": 18,
   "id": "1d5dca93",
   "metadata": {},
   "outputs": [
    {
     "data": {
      "text/plain": [
       "0    [LAX, SLC]\n",
       "1    [DEN, IAD]\n",
       "2    [DFW, VPS]\n",
       "3    [DCA, DFW]\n",
       "4    [LAX, MCI]\n",
       "dtype: object"
      ]
     },
     "execution_count": 18,
     "metadata": {},
     "output_type": "execute_result"
    }
   ],
   "source": [
    "flights_sorted.head()"
   ]
  },
  {
   "cell_type": "code",
   "execution_count": 19,
   "id": "6c093d0c",
   "metadata": {},
   "outputs": [
    {
     "data": {
      "text/plain": [
       "58487    [DFW, SFO]\n",
       "58488    [LAS, SFO]\n",
       "58489    [SBA, SFO]\n",
       "58490    [ATL, MSP]\n",
       "58491    [BOI, SFO]\n",
       "dtype: object"
      ]
     },
     "execution_count": 19,
     "metadata": {},
     "output_type": "execute_result"
    }
   ],
   "source": [
    "flights_sorted.tail()"
   ]
  },
  {
   "cell_type": "code",
   "execution_count": 20,
   "id": "2c34cba0",
   "metadata": {},
   "outputs": [
    {
     "data": {
      "text/plain": [
       "pandas.core.series.Series"
      ]
     },
     "execution_count": 20,
     "metadata": {},
     "output_type": "execute_result"
    },
    {
     "data": {
      "text/plain": [
       "RangeIndex(start=0, stop=58492, step=1)"
      ]
     },
     "execution_count": 20,
     "metadata": {},
     "output_type": "execute_result"
    },
    {
     "data": {
      "text/plain": [
       "numpy.ndarray"
      ]
     },
     "execution_count": 20,
     "metadata": {},
     "output_type": "execute_result"
    }
   ],
   "source": [
    "type(flights_sorted)\n",
    "flights_sorted.index\n",
    "type(flights_sorted.values)"
   ]
  },
  {
   "cell_type": "code",
   "execution_count": null,
   "id": "589fd158",
   "metadata": {},
   "outputs": [],
   "source": []
  }
 ],
 "metadata": {
  "kernelspec": {
   "display_name": "Python 3",
   "language": "python",
   "name": "python3"
  },
  "language_info": {
   "codemirror_mode": {
    "name": "ipython",
    "version": 3
   },
   "file_extension": ".py",
   "mimetype": "text/x-python",
   "name": "python",
   "nbconvert_exporter": "python",
   "pygments_lexer": "ipython3",
   "version": "3.8.5"
  }
 },
 "nbformat": 4,
 "nbformat_minor": 5
}
