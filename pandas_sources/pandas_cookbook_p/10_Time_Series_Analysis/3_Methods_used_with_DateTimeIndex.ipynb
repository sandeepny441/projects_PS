{
 "cells": [
  {
   "cell_type": "code",
   "execution_count": 1,
   "id": "62ee0f86",
   "metadata": {},
   "outputs": [],
   "source": [
    "import pandas as pd"
   ]
  },
  {
   "cell_type": "code",
   "execution_count": 2,
   "id": "303b4caf",
   "metadata": {},
   "outputs": [],
   "source": [
    "crime = pd.read_hdf('data/crime.h5')"
   ]
  },
  {
   "cell_type": "code",
   "execution_count": 3,
   "id": "c9ec204a",
   "metadata": {},
   "outputs": [
    {
     "data": {
      "text/plain": [
       "OFFENSE_TYPE_ID              category\n",
       "OFFENSE_CATEGORY_ID          category\n",
       "REPORTED_DATE          datetime64[ns]\n",
       "GEO_LON                       float64\n",
       "GEO_LAT                       float64\n",
       "NEIGHBORHOOD_ID              category\n",
       "IS_CRIME                        int64\n",
       "IS_TRAFFIC                      int64\n",
       "dtype: object"
      ]
     },
     "execution_count": 3,
     "metadata": {},
     "output_type": "execute_result"
    }
   ],
   "source": [
    "crime.dtypes"
   ]
  },
  {
   "cell_type": "code",
   "execution_count": 4,
   "id": "ff5bb3f3",
   "metadata": {},
   "outputs": [],
   "source": [
    "crime = crime.set_index('REPORTED_DATE')"
   ]
  },
  {
   "cell_type": "code",
   "execution_count": 5,
   "id": "3dce4155",
   "metadata": {},
   "outputs": [
    {
     "name": "stdout",
     "output_type": "stream",
     "text": [
      "<class 'pandas.core.indexes.datetimes.DatetimeIndex'>\n"
     ]
    }
   ],
   "source": [
    "print(type(crime.index))   # index will be DatetimeIndex"
   ]
  },
  {
   "cell_type": "markdown",
   "id": "cc244142",
   "metadata": {},
   "source": [
    "#### crimes reported between 2AM - 5AM"
   ]
  },
  {
   "cell_type": "code",
   "execution_count": 6,
   "id": "aa1633f0",
   "metadata": {},
   "outputs": [
    {
     "data": {
      "text/html": [
       "<div>\n",
       "<style scoped>\n",
       "    .dataframe tbody tr th:only-of-type {\n",
       "        vertical-align: middle;\n",
       "    }\n",
       "\n",
       "    .dataframe tbody tr th {\n",
       "        vertical-align: top;\n",
       "    }\n",
       "\n",
       "    .dataframe thead th {\n",
       "        text-align: right;\n",
       "    }\n",
       "</style>\n",
       "<table border=\"1\" class=\"dataframe\">\n",
       "  <thead>\n",
       "    <tr style=\"text-align: right;\">\n",
       "      <th></th>\n",
       "      <th>OFFENSE_TYPE_ID</th>\n",
       "      <th>OFFENSE_CATEGORY_ID</th>\n",
       "      <th>GEO_LON</th>\n",
       "      <th>GEO_LAT</th>\n",
       "      <th>NEIGHBORHOOD_ID</th>\n",
       "      <th>IS_CRIME</th>\n",
       "      <th>IS_TRAFFIC</th>\n",
       "    </tr>\n",
       "    <tr>\n",
       "      <th>REPORTED_DATE</th>\n",
       "      <th></th>\n",
       "      <th></th>\n",
       "      <th></th>\n",
       "      <th></th>\n",
       "      <th></th>\n",
       "      <th></th>\n",
       "      <th></th>\n",
       "    </tr>\n",
       "  </thead>\n",
       "  <tbody>\n",
       "    <tr>\n",
       "      <th>2014-06-29 02:01:00</th>\n",
       "      <td>traffic-accident-dui-duid</td>\n",
       "      <td>traffic-accident</td>\n",
       "      <td>-105.000149</td>\n",
       "      <td>39.745753</td>\n",
       "      <td>cbd</td>\n",
       "      <td>0</td>\n",
       "      <td>1</td>\n",
       "    </tr>\n",
       "    <tr>\n",
       "      <th>2014-06-29 02:00:00</th>\n",
       "      <td>disturbing-the-peace</td>\n",
       "      <td>public-disorder</td>\n",
       "      <td>-105.020719</td>\n",
       "      <td>39.706674</td>\n",
       "      <td>athmar-park</td>\n",
       "      <td>1</td>\n",
       "      <td>0</td>\n",
       "    </tr>\n",
       "    <tr>\n",
       "      <th>2014-06-29 02:18:00</th>\n",
       "      <td>curfew</td>\n",
       "      <td>public-disorder</td>\n",
       "      <td>-105.001552</td>\n",
       "      <td>39.769505</td>\n",
       "      <td>sunnyside</td>\n",
       "      <td>1</td>\n",
       "      <td>0</td>\n",
       "    </tr>\n",
       "    <tr>\n",
       "      <th>2014-06-29 04:17:00</th>\n",
       "      <td>aggravated-assault</td>\n",
       "      <td>aggravated-assault</td>\n",
       "      <td>-105.018557</td>\n",
       "      <td>39.679229</td>\n",
       "      <td>college-view-south-platte</td>\n",
       "      <td>1</td>\n",
       "      <td>0</td>\n",
       "    </tr>\n",
       "    <tr>\n",
       "      <th>2014-06-29 04:22:00</th>\n",
       "      <td>violation-of-restraining-order</td>\n",
       "      <td>all-other-crimes</td>\n",
       "      <td>-104.972447</td>\n",
       "      <td>39.739449</td>\n",
       "      <td>cheesman-park</td>\n",
       "      <td>1</td>\n",
       "      <td>0</td>\n",
       "    </tr>\n",
       "  </tbody>\n",
       "</table>\n",
       "</div>"
      ],
      "text/plain": [
       "                                    OFFENSE_TYPE_ID OFFENSE_CATEGORY_ID  \\\n",
       "REPORTED_DATE                                                             \n",
       "2014-06-29 02:01:00       traffic-accident-dui-duid    traffic-accident   \n",
       "2014-06-29 02:00:00            disturbing-the-peace     public-disorder   \n",
       "2014-06-29 02:18:00                          curfew     public-disorder   \n",
       "2014-06-29 04:17:00              aggravated-assault  aggravated-assault   \n",
       "2014-06-29 04:22:00  violation-of-restraining-order    all-other-crimes   \n",
       "\n",
       "                        GEO_LON    GEO_LAT            NEIGHBORHOOD_ID  \\\n",
       "REPORTED_DATE                                                           \n",
       "2014-06-29 02:01:00 -105.000149  39.745753                        cbd   \n",
       "2014-06-29 02:00:00 -105.020719  39.706674                athmar-park   \n",
       "2014-06-29 02:18:00 -105.001552  39.769505                  sunnyside   \n",
       "2014-06-29 04:17:00 -105.018557  39.679229  college-view-south-platte   \n",
       "2014-06-29 04:22:00 -104.972447  39.739449              cheesman-park   \n",
       "\n",
       "                     IS_CRIME  IS_TRAFFIC  \n",
       "REPORTED_DATE                              \n",
       "2014-06-29 02:01:00         0           1  \n",
       "2014-06-29 02:00:00         1           0  \n",
       "2014-06-29 02:18:00         1           0  \n",
       "2014-06-29 04:17:00         1           0  \n",
       "2014-06-29 04:22:00         1           0  "
      ]
     },
     "execution_count": 6,
     "metadata": {},
     "output_type": "execute_result"
    }
   ],
   "source": [
    "crime.between_time('2:00', '5:00', include_end=False).head()"
   ]
  },
  {
   "cell_type": "code",
   "execution_count": 7,
   "id": "57ae3a37",
   "metadata": {},
   "outputs": [
    {
     "data": {
      "text/html": [
       "<div>\n",
       "<style scoped>\n",
       "    .dataframe tbody tr th:only-of-type {\n",
       "        vertical-align: middle;\n",
       "    }\n",
       "\n",
       "    .dataframe tbody tr th {\n",
       "        vertical-align: top;\n",
       "    }\n",
       "\n",
       "    .dataframe thead th {\n",
       "        text-align: right;\n",
       "    }\n",
       "</style>\n",
       "<table border=\"1\" class=\"dataframe\">\n",
       "  <thead>\n",
       "    <tr style=\"text-align: right;\">\n",
       "      <th></th>\n",
       "      <th>OFFENSE_TYPE_ID</th>\n",
       "      <th>OFFENSE_CATEGORY_ID</th>\n",
       "      <th>GEO_LON</th>\n",
       "      <th>GEO_LAT</th>\n",
       "      <th>NEIGHBORHOOD_ID</th>\n",
       "      <th>IS_CRIME</th>\n",
       "      <th>IS_TRAFFIC</th>\n",
       "    </tr>\n",
       "    <tr>\n",
       "      <th>REPORTED_DATE</th>\n",
       "      <th></th>\n",
       "      <th></th>\n",
       "      <th></th>\n",
       "      <th></th>\n",
       "      <th></th>\n",
       "      <th></th>\n",
       "      <th></th>\n",
       "    </tr>\n",
       "  </thead>\n",
       "  <tbody>\n",
       "    <tr>\n",
       "      <th>2014-03-21 05:00:00</th>\n",
       "      <td>assault-dv</td>\n",
       "      <td>other-crimes-against-persons</td>\n",
       "      <td>-105.022173</td>\n",
       "      <td>39.732648</td>\n",
       "      <td>sun-valley</td>\n",
       "      <td>1</td>\n",
       "      <td>0</td>\n",
       "    </tr>\n",
       "    <tr>\n",
       "      <th>2014-03-21 05:00:00</th>\n",
       "      <td>disturbing-the-peace</td>\n",
       "      <td>public-disorder</td>\n",
       "      <td>-105.022173</td>\n",
       "      <td>39.732648</td>\n",
       "      <td>sun-valley</td>\n",
       "      <td>1</td>\n",
       "      <td>0</td>\n",
       "    </tr>\n",
       "    <tr>\n",
       "      <th>2014-09-28 05:00:00</th>\n",
       "      <td>robbery-street</td>\n",
       "      <td>robbery</td>\n",
       "      <td>-105.031010</td>\n",
       "      <td>39.707926</td>\n",
       "      <td>westwood</td>\n",
       "      <td>1</td>\n",
       "      <td>0</td>\n",
       "    </tr>\n",
       "    <tr>\n",
       "      <th>2015-08-24 05:00:00</th>\n",
       "      <td>traffic-accident</td>\n",
       "      <td>traffic-accident</td>\n",
       "      <td>-104.903433</td>\n",
       "      <td>39.778300</td>\n",
       "      <td>stapleton</td>\n",
       "      <td>0</td>\n",
       "      <td>1</td>\n",
       "    </tr>\n",
       "    <tr>\n",
       "      <th>2012-11-10 05:00:00</th>\n",
       "      <td>theft-items-from-vehicle</td>\n",
       "      <td>theft-from-motor-vehicle</td>\n",
       "      <td>-105.033020</td>\n",
       "      <td>39.736043</td>\n",
       "      <td>west-colfax</td>\n",
       "      <td>1</td>\n",
       "      <td>0</td>\n",
       "    </tr>\n",
       "  </tbody>\n",
       "</table>\n",
       "</div>"
      ],
      "text/plain": [
       "                              OFFENSE_TYPE_ID           OFFENSE_CATEGORY_ID  \\\n",
       "REPORTED_DATE                                                                 \n",
       "2014-03-21 05:00:00                assault-dv  other-crimes-against-persons   \n",
       "2014-03-21 05:00:00      disturbing-the-peace               public-disorder   \n",
       "2014-09-28 05:00:00            robbery-street                       robbery   \n",
       "2015-08-24 05:00:00          traffic-accident              traffic-accident   \n",
       "2012-11-10 05:00:00  theft-items-from-vehicle      theft-from-motor-vehicle   \n",
       "\n",
       "                        GEO_LON    GEO_LAT NEIGHBORHOOD_ID  IS_CRIME  \\\n",
       "REPORTED_DATE                                                          \n",
       "2014-03-21 05:00:00 -105.022173  39.732648      sun-valley         1   \n",
       "2014-03-21 05:00:00 -105.022173  39.732648      sun-valley         1   \n",
       "2014-09-28 05:00:00 -105.031010  39.707926        westwood         1   \n",
       "2015-08-24 05:00:00 -104.903433  39.778300       stapleton         0   \n",
       "2012-11-10 05:00:00 -105.033020  39.736043     west-colfax         1   \n",
       "\n",
       "                     IS_TRAFFIC  \n",
       "REPORTED_DATE                    \n",
       "2014-03-21 05:00:00           0  \n",
       "2014-03-21 05:00:00           0  \n",
       "2014-09-28 05:00:00           0  \n",
       "2015-08-24 05:00:00           1  \n",
       "2012-11-10 05:00:00           0  "
      ]
     },
     "execution_count": 7,
     "metadata": {},
     "output_type": "execute_result"
    }
   ],
   "source": [
    "crime.at_time('5:00').head() # exactly at 5"
   ]
  },
  {
   "cell_type": "code",
   "execution_count": 8,
   "id": "705d1d4d",
   "metadata": {},
   "outputs": [],
   "source": [
    "crime_sort = crime.sort_index()"
   ]
  },
  {
   "cell_type": "code",
   "execution_count": 9,
   "id": "3282abfe",
   "metadata": {},
   "outputs": [],
   "source": [
    "first_crime = crime_sort.index[0]"
   ]
  },
  {
   "cell_type": "code",
   "execution_count": 10,
   "id": "d863d1d0",
   "metadata": {},
   "outputs": [
    {
     "data": {
      "text/plain": [
       "Timestamp('2012-01-02 00:06:00')"
      ]
     },
     "execution_count": 10,
     "metadata": {},
     "output_type": "execute_result"
    }
   ],
   "source": [
    "first_crime"
   ]
  },
  {
   "cell_type": "code",
   "execution_count": 11,
   "id": "b1c29600",
   "metadata": {},
   "outputs": [],
   "source": [
    "last_crime = crime_sort.index[len(crime_sort.index) - 1]"
   ]
  },
  {
   "cell_type": "code",
   "execution_count": 12,
   "id": "47fc513b",
   "metadata": {},
   "outputs": [
    {
     "data": {
      "text/plain": [
       "Timestamp('2017-09-29 06:16:00')"
      ]
     },
     "execution_count": 12,
     "metadata": {},
     "output_type": "execute_result"
    }
   ],
   "source": [
    "last_crime"
   ]
  },
  {
   "cell_type": "markdown",
   "id": "8ef89f0d",
   "metadata": {},
   "source": [
    "#### crime incident at 6 months from start"
   ]
  },
  {
   "cell_type": "code",
   "execution_count": 13,
   "id": "e7bccb1d",
   "metadata": {},
   "outputs": [
    {
     "data": {
      "text/plain": [
       "Timestamp('2012-07-01 00:06:00')"
      ]
     },
     "execution_count": 13,
     "metadata": {},
     "output_type": "execute_result"
    }
   ],
   "source": [
    "first_crime + pd.offsets.MonthBegin(6)"
   ]
  },
  {
   "cell_type": "markdown",
   "id": "aed516cc",
   "metadata": {},
   "source": [
    "#### crime incident at 6 months from first ( at ending)"
   ]
  },
  {
   "cell_type": "code",
   "execution_count": 14,
   "id": "1a2d275a",
   "metadata": {},
   "outputs": [
    {
     "data": {
      "text/plain": [
       "Timestamp('2012-06-30 00:06:00')"
      ]
     },
     "execution_count": 14,
     "metadata": {},
     "output_type": "execute_result"
    }
   ],
   "source": [
    "first_crime + pd.offsets.MonthEnd(6)"
   ]
  },
  {
   "cell_type": "markdown",
   "id": "0cb9e506",
   "metadata": {},
   "source": [
    "#### getting first months crimes"
   ]
  },
  {
   "cell_type": "code",
   "execution_count": 15,
   "id": "d00dbd64",
   "metadata": {},
   "outputs": [
    {
     "data": {
      "text/html": [
       "<div>\n",
       "<style scoped>\n",
       "    .dataframe tbody tr th:only-of-type {\n",
       "        vertical-align: middle;\n",
       "    }\n",
       "\n",
       "    .dataframe tbody tr th {\n",
       "        vertical-align: top;\n",
       "    }\n",
       "\n",
       "    .dataframe thead th {\n",
       "        text-align: right;\n",
       "    }\n",
       "</style>\n",
       "<table border=\"1\" class=\"dataframe\">\n",
       "  <thead>\n",
       "    <tr style=\"text-align: right;\">\n",
       "      <th></th>\n",
       "      <th>OFFENSE_TYPE_ID</th>\n",
       "      <th>OFFENSE_CATEGORY_ID</th>\n",
       "      <th>GEO_LON</th>\n",
       "      <th>GEO_LAT</th>\n",
       "      <th>NEIGHBORHOOD_ID</th>\n",
       "      <th>IS_CRIME</th>\n",
       "      <th>IS_TRAFFIC</th>\n",
       "    </tr>\n",
       "    <tr>\n",
       "      <th>REPORTED_DATE</th>\n",
       "      <th></th>\n",
       "      <th></th>\n",
       "      <th></th>\n",
       "      <th></th>\n",
       "      <th></th>\n",
       "      <th></th>\n",
       "      <th></th>\n",
       "    </tr>\n",
       "  </thead>\n",
       "  <tbody>\n",
       "    <tr>\n",
       "      <th>2012-01-02 00:06:00</th>\n",
       "      <td>aggravated-assault</td>\n",
       "      <td>aggravated-assault</td>\n",
       "      <td>-104.816860</td>\n",
       "      <td>39.796717</td>\n",
       "      <td>montbello</td>\n",
       "      <td>1</td>\n",
       "      <td>0</td>\n",
       "    </tr>\n",
       "    <tr>\n",
       "      <th>2012-01-02 00:06:00</th>\n",
       "      <td>violation-of-restraining-order</td>\n",
       "      <td>all-other-crimes</td>\n",
       "      <td>-104.816860</td>\n",
       "      <td>39.796717</td>\n",
       "      <td>montbello</td>\n",
       "      <td>1</td>\n",
       "      <td>0</td>\n",
       "    </tr>\n",
       "    <tr>\n",
       "      <th>2012-01-02 00:16:00</th>\n",
       "      <td>traffic-accident-dui-duid</td>\n",
       "      <td>traffic-accident</td>\n",
       "      <td>-104.971851</td>\n",
       "      <td>39.736874</td>\n",
       "      <td>cheesman-park</td>\n",
       "      <td>0</td>\n",
       "      <td>1</td>\n",
       "    </tr>\n",
       "    <tr>\n",
       "      <th>2012-01-02 00:47:00</th>\n",
       "      <td>traffic-accident</td>\n",
       "      <td>traffic-accident</td>\n",
       "      <td>-104.951824</td>\n",
       "      <td>39.740168</td>\n",
       "      <td>congress-park</td>\n",
       "      <td>0</td>\n",
       "      <td>1</td>\n",
       "    </tr>\n",
       "    <tr>\n",
       "      <th>2012-01-02 01:35:00</th>\n",
       "      <td>aggravated-assault</td>\n",
       "      <td>aggravated-assault</td>\n",
       "      <td>-104.998131</td>\n",
       "      <td>39.749922</td>\n",
       "      <td>union-station</td>\n",
       "      <td>1</td>\n",
       "      <td>0</td>\n",
       "    </tr>\n",
       "    <tr>\n",
       "      <th>...</th>\n",
       "      <td>...</td>\n",
       "      <td>...</td>\n",
       "      <td>...</td>\n",
       "      <td>...</td>\n",
       "      <td>...</td>\n",
       "      <td>...</td>\n",
       "      <td>...</td>\n",
       "    </tr>\n",
       "    <tr>\n",
       "      <th>2012-06-30 23:40:00</th>\n",
       "      <td>traffic-accident-dui-duid</td>\n",
       "      <td>traffic-accident</td>\n",
       "      <td>-104.922266</td>\n",
       "      <td>39.678471</td>\n",
       "      <td>goldsmith</td>\n",
       "      <td>0</td>\n",
       "      <td>1</td>\n",
       "    </tr>\n",
       "    <tr>\n",
       "      <th>2012-06-30 23:44:00</th>\n",
       "      <td>traffic-accident</td>\n",
       "      <td>traffic-accident</td>\n",
       "      <td>-104.987578</td>\n",
       "      <td>39.711158</td>\n",
       "      <td>baker</td>\n",
       "      <td>0</td>\n",
       "      <td>1</td>\n",
       "    </tr>\n",
       "    <tr>\n",
       "      <th>2012-06-30 23:50:00</th>\n",
       "      <td>criminal-mischief-mtr-veh</td>\n",
       "      <td>public-disorder</td>\n",
       "      <td>-104.838271</td>\n",
       "      <td>39.788683</td>\n",
       "      <td>montbello</td>\n",
       "      <td>1</td>\n",
       "      <td>0</td>\n",
       "    </tr>\n",
       "    <tr>\n",
       "      <th>2012-06-30 23:54:00</th>\n",
       "      <td>traffic-accident-hit-and-run</td>\n",
       "      <td>traffic-accident</td>\n",
       "      <td>-105.014162</td>\n",
       "      <td>39.740439</td>\n",
       "      <td>lincoln-park</td>\n",
       "      <td>0</td>\n",
       "      <td>1</td>\n",
       "    </tr>\n",
       "    <tr>\n",
       "      <th>2012-07-01 00:01:00</th>\n",
       "      <td>robbery-street</td>\n",
       "      <td>robbery</td>\n",
       "      <td>-104.924292</td>\n",
       "      <td>39.767585</td>\n",
       "      <td>northeast-park-hill</td>\n",
       "      <td>1</td>\n",
       "      <td>0</td>\n",
       "    </tr>\n",
       "  </tbody>\n",
       "</table>\n",
       "<p>27489 rows × 7 columns</p>\n",
       "</div>"
      ],
      "text/plain": [
       "                                    OFFENSE_TYPE_ID OFFENSE_CATEGORY_ID  \\\n",
       "REPORTED_DATE                                                             \n",
       "2012-01-02 00:06:00              aggravated-assault  aggravated-assault   \n",
       "2012-01-02 00:06:00  violation-of-restraining-order    all-other-crimes   \n",
       "2012-01-02 00:16:00       traffic-accident-dui-duid    traffic-accident   \n",
       "2012-01-02 00:47:00                traffic-accident    traffic-accident   \n",
       "2012-01-02 01:35:00              aggravated-assault  aggravated-assault   \n",
       "...                                             ...                 ...   \n",
       "2012-06-30 23:40:00       traffic-accident-dui-duid    traffic-accident   \n",
       "2012-06-30 23:44:00                traffic-accident    traffic-accident   \n",
       "2012-06-30 23:50:00       criminal-mischief-mtr-veh     public-disorder   \n",
       "2012-06-30 23:54:00    traffic-accident-hit-and-run    traffic-accident   \n",
       "2012-07-01 00:01:00                  robbery-street             robbery   \n",
       "\n",
       "                        GEO_LON    GEO_LAT      NEIGHBORHOOD_ID  IS_CRIME  \\\n",
       "REPORTED_DATE                                                               \n",
       "2012-01-02 00:06:00 -104.816860  39.796717            montbello         1   \n",
       "2012-01-02 00:06:00 -104.816860  39.796717            montbello         1   \n",
       "2012-01-02 00:16:00 -104.971851  39.736874        cheesman-park         0   \n",
       "2012-01-02 00:47:00 -104.951824  39.740168        congress-park         0   \n",
       "2012-01-02 01:35:00 -104.998131  39.749922        union-station         1   \n",
       "...                         ...        ...                  ...       ...   \n",
       "2012-06-30 23:40:00 -104.922266  39.678471            goldsmith         0   \n",
       "2012-06-30 23:44:00 -104.987578  39.711158                baker         0   \n",
       "2012-06-30 23:50:00 -104.838271  39.788683            montbello         1   \n",
       "2012-06-30 23:54:00 -105.014162  39.740439         lincoln-park         0   \n",
       "2012-07-01 00:01:00 -104.924292  39.767585  northeast-park-hill         1   \n",
       "\n",
       "                     IS_TRAFFIC  \n",
       "REPORTED_DATE                    \n",
       "2012-01-02 00:06:00           0  \n",
       "2012-01-02 00:06:00           0  \n",
       "2012-01-02 00:16:00           1  \n",
       "2012-01-02 00:47:00           1  \n",
       "2012-01-02 01:35:00           0  \n",
       "...                         ...  \n",
       "2012-06-30 23:40:00           1  \n",
       "2012-06-30 23:44:00           1  \n",
       "2012-06-30 23:50:00           0  \n",
       "2012-06-30 23:54:00           1  \n",
       "2012-07-01 00:01:00           0  \n",
       "\n",
       "[27489 rows x 7 columns]"
      ]
     },
     "execution_count": 15,
     "metadata": {},
     "output_type": "execute_result"
    }
   ],
   "source": [
    "crime_sort.first(pd.offsets.MonthBegin(6))"
   ]
  },
  {
   "cell_type": "code",
   "execution_count": 16,
   "id": "9b0cf4cb",
   "metadata": {},
   "outputs": [
    {
     "data": {
      "text/html": [
       "<div>\n",
       "<style scoped>\n",
       "    .dataframe tbody tr th:only-of-type {\n",
       "        vertical-align: middle;\n",
       "    }\n",
       "\n",
       "    .dataframe tbody tr th {\n",
       "        vertical-align: top;\n",
       "    }\n",
       "\n",
       "    .dataframe thead th {\n",
       "        text-align: right;\n",
       "    }\n",
       "</style>\n",
       "<table border=\"1\" class=\"dataframe\">\n",
       "  <thead>\n",
       "    <tr style=\"text-align: right;\">\n",
       "      <th></th>\n",
       "      <th>OFFENSE_TYPE_ID</th>\n",
       "      <th>OFFENSE_CATEGORY_ID</th>\n",
       "      <th>GEO_LON</th>\n",
       "      <th>GEO_LAT</th>\n",
       "      <th>NEIGHBORHOOD_ID</th>\n",
       "      <th>IS_CRIME</th>\n",
       "      <th>IS_TRAFFIC</th>\n",
       "    </tr>\n",
       "    <tr>\n",
       "      <th>REPORTED_DATE</th>\n",
       "      <th></th>\n",
       "      <th></th>\n",
       "      <th></th>\n",
       "      <th></th>\n",
       "      <th></th>\n",
       "      <th></th>\n",
       "      <th></th>\n",
       "    </tr>\n",
       "  </thead>\n",
       "  <tbody>\n",
       "    <tr>\n",
       "      <th>2012-01-02 00:06:00</th>\n",
       "      <td>aggravated-assault</td>\n",
       "      <td>aggravated-assault</td>\n",
       "      <td>-104.816860</td>\n",
       "      <td>39.796717</td>\n",
       "      <td>montbello</td>\n",
       "      <td>1</td>\n",
       "      <td>0</td>\n",
       "    </tr>\n",
       "    <tr>\n",
       "      <th>2012-01-02 00:06:00</th>\n",
       "      <td>violation-of-restraining-order</td>\n",
       "      <td>all-other-crimes</td>\n",
       "      <td>-104.816860</td>\n",
       "      <td>39.796717</td>\n",
       "      <td>montbello</td>\n",
       "      <td>1</td>\n",
       "      <td>0</td>\n",
       "    </tr>\n",
       "    <tr>\n",
       "      <th>2012-01-02 00:16:00</th>\n",
       "      <td>traffic-accident-dui-duid</td>\n",
       "      <td>traffic-accident</td>\n",
       "      <td>-104.971851</td>\n",
       "      <td>39.736874</td>\n",
       "      <td>cheesman-park</td>\n",
       "      <td>0</td>\n",
       "      <td>1</td>\n",
       "    </tr>\n",
       "  </tbody>\n",
       "</table>\n",
       "</div>"
      ],
      "text/plain": [
       "                                    OFFENSE_TYPE_ID OFFENSE_CATEGORY_ID  \\\n",
       "REPORTED_DATE                                                             \n",
       "2012-01-02 00:06:00              aggravated-assault  aggravated-assault   \n",
       "2012-01-02 00:06:00  violation-of-restraining-order    all-other-crimes   \n",
       "2012-01-02 00:16:00       traffic-accident-dui-duid    traffic-accident   \n",
       "\n",
       "                        GEO_LON    GEO_LAT NEIGHBORHOOD_ID  IS_CRIME  \\\n",
       "REPORTED_DATE                                                          \n",
       "2012-01-02 00:06:00 -104.816860  39.796717       montbello         1   \n",
       "2012-01-02 00:06:00 -104.816860  39.796717       montbello         1   \n",
       "2012-01-02 00:16:00 -104.971851  39.736874   cheesman-park         0   \n",
       "\n",
       "                     IS_TRAFFIC  \n",
       "REPORTED_DATE                    \n",
       "2012-01-02 00:06:00           0  \n",
       "2012-01-02 00:06:00           0  \n",
       "2012-01-02 00:16:00           1  "
      ]
     },
     "execution_count": 16,
     "metadata": {},
     "output_type": "execute_result"
    }
   ],
   "source": [
    "crime_sort.first(pd.offsets.MonthEnd(6)).head(3)"
   ]
  },
  {
   "cell_type": "code",
   "execution_count": 17,
   "id": "586560fa",
   "metadata": {},
   "outputs": [
    {
     "data": {
      "text/html": [
       "<div>\n",
       "<style scoped>\n",
       "    .dataframe tbody tr th:only-of-type {\n",
       "        vertical-align: middle;\n",
       "    }\n",
       "\n",
       "    .dataframe tbody tr th {\n",
       "        vertical-align: top;\n",
       "    }\n",
       "\n",
       "    .dataframe thead th {\n",
       "        text-align: right;\n",
       "    }\n",
       "</style>\n",
       "<table border=\"1\" class=\"dataframe\">\n",
       "  <thead>\n",
       "    <tr style=\"text-align: right;\">\n",
       "      <th></th>\n",
       "      <th>OFFENSE_TYPE_ID</th>\n",
       "      <th>OFFENSE_CATEGORY_ID</th>\n",
       "      <th>GEO_LON</th>\n",
       "      <th>GEO_LAT</th>\n",
       "      <th>NEIGHBORHOOD_ID</th>\n",
       "      <th>IS_CRIME</th>\n",
       "      <th>IS_TRAFFIC</th>\n",
       "    </tr>\n",
       "    <tr>\n",
       "      <th>REPORTED_DATE</th>\n",
       "      <th></th>\n",
       "      <th></th>\n",
       "      <th></th>\n",
       "      <th></th>\n",
       "      <th></th>\n",
       "      <th></th>\n",
       "      <th></th>\n",
       "    </tr>\n",
       "  </thead>\n",
       "  <tbody>\n",
       "    <tr>\n",
       "      <th>2012-01-02 00:06:00</th>\n",
       "      <td>aggravated-assault</td>\n",
       "      <td>aggravated-assault</td>\n",
       "      <td>-104.816860</td>\n",
       "      <td>39.796717</td>\n",
       "      <td>montbello</td>\n",
       "      <td>1</td>\n",
       "      <td>0</td>\n",
       "    </tr>\n",
       "    <tr>\n",
       "      <th>2012-01-02 00:06:00</th>\n",
       "      <td>violation-of-restraining-order</td>\n",
       "      <td>all-other-crimes</td>\n",
       "      <td>-104.816860</td>\n",
       "      <td>39.796717</td>\n",
       "      <td>montbello</td>\n",
       "      <td>1</td>\n",
       "      <td>0</td>\n",
       "    </tr>\n",
       "    <tr>\n",
       "      <th>2012-01-02 00:16:00</th>\n",
       "      <td>traffic-accident-dui-duid</td>\n",
       "      <td>traffic-accident</td>\n",
       "      <td>-104.971851</td>\n",
       "      <td>39.736874</td>\n",
       "      <td>cheesman-park</td>\n",
       "      <td>0</td>\n",
       "      <td>1</td>\n",
       "    </tr>\n",
       "  </tbody>\n",
       "</table>\n",
       "</div>"
      ],
      "text/plain": [
       "                                    OFFENSE_TYPE_ID OFFENSE_CATEGORY_ID  \\\n",
       "REPORTED_DATE                                                             \n",
       "2012-01-02 00:06:00              aggravated-assault  aggravated-assault   \n",
       "2012-01-02 00:06:00  violation-of-restraining-order    all-other-crimes   \n",
       "2012-01-02 00:16:00       traffic-accident-dui-duid    traffic-accident   \n",
       "\n",
       "                        GEO_LON    GEO_LAT NEIGHBORHOOD_ID  IS_CRIME  \\\n",
       "REPORTED_DATE                                                          \n",
       "2012-01-02 00:06:00 -104.816860  39.796717       montbello         1   \n",
       "2012-01-02 00:06:00 -104.816860  39.796717       montbello         1   \n",
       "2012-01-02 00:16:00 -104.971851  39.736874   cheesman-park         0   \n",
       "\n",
       "                     IS_TRAFFIC  \n",
       "REPORTED_DATE                    \n",
       "2012-01-02 00:06:00           0  \n",
       "2012-01-02 00:06:00           0  \n",
       "2012-01-02 00:16:00           1  "
      ]
     },
     "execution_count": 17,
     "metadata": {},
     "output_type": "execute_result"
    }
   ],
   "source": [
    "crime_sort.first(pd.offsets.MonthBegin(6, normalize=True)).head(3)"
   ]
  },
  {
   "cell_type": "code",
   "execution_count": 18,
   "id": "1833e372",
   "metadata": {
    "scrolled": true
   },
   "outputs": [
    {
     "data": {
      "text/html": [
       "<div>\n",
       "<style scoped>\n",
       "    .dataframe tbody tr th:only-of-type {\n",
       "        vertical-align: middle;\n",
       "    }\n",
       "\n",
       "    .dataframe tbody tr th {\n",
       "        vertical-align: top;\n",
       "    }\n",
       "\n",
       "    .dataframe thead th {\n",
       "        text-align: right;\n",
       "    }\n",
       "</style>\n",
       "<table border=\"1\" class=\"dataframe\">\n",
       "  <thead>\n",
       "    <tr style=\"text-align: right;\">\n",
       "      <th></th>\n",
       "      <th>OFFENSE_TYPE_ID</th>\n",
       "      <th>OFFENSE_CATEGORY_ID</th>\n",
       "      <th>GEO_LON</th>\n",
       "      <th>GEO_LAT</th>\n",
       "      <th>NEIGHBORHOOD_ID</th>\n",
       "      <th>IS_CRIME</th>\n",
       "      <th>IS_TRAFFIC</th>\n",
       "    </tr>\n",
       "    <tr>\n",
       "      <th>REPORTED_DATE</th>\n",
       "      <th></th>\n",
       "      <th></th>\n",
       "      <th></th>\n",
       "      <th></th>\n",
       "      <th></th>\n",
       "      <th></th>\n",
       "      <th></th>\n",
       "    </tr>\n",
       "  </thead>\n",
       "  <tbody>\n",
       "    <tr>\n",
       "      <th>2012-01-02 00:06:00</th>\n",
       "      <td>aggravated-assault</td>\n",
       "      <td>aggravated-assault</td>\n",
       "      <td>-104.816860</td>\n",
       "      <td>39.796717</td>\n",
       "      <td>montbello</td>\n",
       "      <td>1</td>\n",
       "      <td>0</td>\n",
       "    </tr>\n",
       "    <tr>\n",
       "      <th>2012-01-02 00:06:00</th>\n",
       "      <td>violation-of-restraining-order</td>\n",
       "      <td>all-other-crimes</td>\n",
       "      <td>-104.816860</td>\n",
       "      <td>39.796717</td>\n",
       "      <td>montbello</td>\n",
       "      <td>1</td>\n",
       "      <td>0</td>\n",
       "    </tr>\n",
       "    <tr>\n",
       "      <th>2012-01-02 00:16:00</th>\n",
       "      <td>traffic-accident-dui-duid</td>\n",
       "      <td>traffic-accident</td>\n",
       "      <td>-104.971851</td>\n",
       "      <td>39.736874</td>\n",
       "      <td>cheesman-park</td>\n",
       "      <td>0</td>\n",
       "      <td>1</td>\n",
       "    </tr>\n",
       "  </tbody>\n",
       "</table>\n",
       "</div>"
      ],
      "text/plain": [
       "                                    OFFENSE_TYPE_ID OFFENSE_CATEGORY_ID  \\\n",
       "REPORTED_DATE                                                             \n",
       "2012-01-02 00:06:00              aggravated-assault  aggravated-assault   \n",
       "2012-01-02 00:06:00  violation-of-restraining-order    all-other-crimes   \n",
       "2012-01-02 00:16:00       traffic-accident-dui-duid    traffic-accident   \n",
       "\n",
       "                        GEO_LON    GEO_LAT NEIGHBORHOOD_ID  IS_CRIME  \\\n",
       "REPORTED_DATE                                                          \n",
       "2012-01-02 00:06:00 -104.816860  39.796717       montbello         1   \n",
       "2012-01-02 00:06:00 -104.816860  39.796717       montbello         1   \n",
       "2012-01-02 00:16:00 -104.971851  39.736874   cheesman-park         0   \n",
       "\n",
       "                     IS_TRAFFIC  \n",
       "REPORTED_DATE                    \n",
       "2012-01-02 00:06:00           0  \n",
       "2012-01-02 00:06:00           0  \n",
       "2012-01-02 00:16:00           1  "
      ]
     },
     "execution_count": 18,
     "metadata": {},
     "output_type": "execute_result"
    }
   ],
   "source": [
    "crime_sort.loc[ : '2012-06'].head(3)  # getting crimes upto 6th month"
   ]
  },
  {
   "cell_type": "markdown",
   "id": "78be8223",
   "metadata": {},
   "source": [
    "### creating custom date offset object"
   ]
  },
  {
   "cell_type": "code",
   "execution_count": 19,
   "id": "a1317b85",
   "metadata": {},
   "outputs": [],
   "source": [
    "dt = pd.Timestamp('2021-01-16 13:40')"
   ]
  },
  {
   "cell_type": "code",
   "execution_count": 20,
   "id": "5fdac5b4",
   "metadata": {},
   "outputs": [
    {
     "data": {
      "text/plain": [
       "Timestamp('2021-02-16 13:40:00')"
      ]
     },
     "execution_count": 20,
     "metadata": {},
     "output_type": "execute_result"
    }
   ],
   "source": [
    "dt + pd.DateOffset(months=1)  # one month offset"
   ]
  },
  {
   "cell_type": "code",
   "execution_count": 21,
   "id": "62d1bc5c",
   "metadata": {},
   "outputs": [],
   "source": [
    "do = pd.DateOffset(years=2, months=5, days=3, hours=8, seconds=10)"
   ]
  },
  {
   "cell_type": "code",
   "execution_count": 22,
   "id": "150fd2b7",
   "metadata": {},
   "outputs": [
    {
     "data": {
      "text/plain": [
       "Timestamp('2014-06-25 11:22:10')"
      ]
     },
     "execution_count": 22,
     "metadata": {},
     "output_type": "execute_result"
    }
   ],
   "source": [
    "pd.Timestamp('2012-1-22 03:22') + do # adding 2 years, 5 months...."
   ]
  },
  {
   "cell_type": "code",
   "execution_count": null,
   "id": "55bdf2e4",
   "metadata": {},
   "outputs": [],
   "source": []
  }
 ],
 "metadata": {
  "kernelspec": {
   "display_name": "Python 3",
   "language": "python",
   "name": "python3"
  },
  "language_info": {
   "codemirror_mode": {
    "name": "ipython",
    "version": 3
   },
   "file_extension": ".py",
   "mimetype": "text/x-python",
   "name": "python",
   "nbconvert_exporter": "python",
   "pygments_lexer": "ipython3",
   "version": "3.8.5"
  }
 },
 "nbformat": 4,
 "nbformat_minor": 5
}
