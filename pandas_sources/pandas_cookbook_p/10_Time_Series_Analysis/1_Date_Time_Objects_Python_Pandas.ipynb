{
 "cells": [
  {
   "cell_type": "code",
   "execution_count": 1,
   "id": "85c75560",
   "metadata": {},
   "outputs": [],
   "source": [
    "import datetime\n",
    "import pandas as pd"
   ]
  },
  {
   "cell_type": "markdown",
   "id": "5078c633",
   "metadata": {},
   "source": [
    "### Date,Time handling with Python"
   ]
  },
  {
   "cell_type": "code",
   "execution_count": 2,
   "id": "51185a59",
   "metadata": {},
   "outputs": [],
   "source": [
    "date = datetime.date(year=2013, month=6, day=7)"
   ]
  },
  {
   "cell_type": "code",
   "execution_count": 3,
   "id": "3eb29193",
   "metadata": {},
   "outputs": [
    {
     "data": {
      "text/plain": [
       "(datetime.date(2013, 6, 7), datetime.date)"
      ]
     },
     "execution_count": 3,
     "metadata": {},
     "output_type": "execute_result"
    }
   ],
   "source": [
    "date, type(date)"
   ]
  },
  {
   "cell_type": "code",
   "execution_count": 4,
   "id": "0a1fec5e",
   "metadata": {},
   "outputs": [],
   "source": [
    "time = datetime.time(hour=12, minute=30, second=19, microsecond=463198)"
   ]
  },
  {
   "cell_type": "code",
   "execution_count": 5,
   "id": "f9c86464",
   "metadata": {},
   "outputs": [
    {
     "data": {
      "text/plain": [
       "(datetime.time(12, 30, 19, 463198), datetime.time)"
      ]
     },
     "execution_count": 5,
     "metadata": {},
     "output_type": "execute_result"
    }
   ],
   "source": [
    "time, type(time)"
   ]
  },
  {
   "cell_type": "code",
   "execution_count": 6,
   "id": "5baae02f",
   "metadata": {},
   "outputs": [],
   "source": [
    "dt = datetime.datetime(year=2013, month=6, day=7, \n",
    "                           hour=12, minute=30, second=19, \n",
    "                           microsecond=463198)"
   ]
  },
  {
   "cell_type": "code",
   "execution_count": 7,
   "id": "f31f3681",
   "metadata": {},
   "outputs": [
    {
     "data": {
      "text/plain": [
       "(datetime.datetime(2013, 6, 7, 12, 30, 19, 463198), datetime.datetime)"
      ]
     },
     "execution_count": 7,
     "metadata": {},
     "output_type": "execute_result"
    }
   ],
   "source": [
    "dt, type(dt)"
   ]
  },
  {
   "cell_type": "code",
   "execution_count": 8,
   "id": "bbf8b155",
   "metadata": {},
   "outputs": [
    {
     "name": "stdout",
     "output_type": "stream",
     "text": [
      "2013-06-07\n",
      "12:30:19.463198\n",
      "2013-06-07 12:30:19.463198\n"
     ]
    }
   ],
   "source": [
    "print(date)\n",
    "print(time)\n",
    "print(dt)"
   ]
  },
  {
   "cell_type": "code",
   "execution_count": 9,
   "id": "a8366441",
   "metadata": {},
   "outputs": [],
   "source": [
    "time_delta = datetime.timedelta(weeks=2, days=5, hours=10,\n",
    "                            minutes=20, seconds=6.73,\n",
    "                            milliseconds=99, microseconds=8)"
   ]
  },
  {
   "cell_type": "code",
   "execution_count": 10,
   "id": "567f997f",
   "metadata": {},
   "outputs": [
    {
     "name": "stdout",
     "output_type": "stream",
     "text": [
      "19 days, 10:20:06.829008\n"
     ]
    }
   ],
   "source": [
    "print(time_delta)"
   ]
  },
  {
   "cell_type": "code",
   "execution_count": 11,
   "id": "af091e16",
   "metadata": {},
   "outputs": [
    {
     "name": "stdout",
     "output_type": "stream",
     "text": [
      "New date is  2013-06-26\n"
     ]
    }
   ],
   "source": [
    "print('New date is ', date + time_delta) # (7th + 19th)"
   ]
  },
  {
   "cell_type": "code",
   "execution_count": 12,
   "id": "77c36f66",
   "metadata": {},
   "outputs": [
    {
     "name": "stdout",
     "output_type": "stream",
     "text": [
      "new datetime is 2013-06-26 22:50:26.292206\n"
     ]
    }
   ],
   "source": [
    "print('new datetime is', dt + time_delta)"
   ]
  },
  {
   "cell_type": "code",
   "execution_count": 13,
   "id": "1e967272",
   "metadata": {},
   "outputs": [
    {
     "name": "stdout",
     "output_type": "stream",
     "text": [
      "unsupported operand type(s) for +: 'datetime.time' and 'datetime.timedelta'\n"
     ]
    }
   ],
   "source": [
    "try:\n",
    "    time + time_delta\n",
    "except TypeError as e:\n",
    "    print(e)"
   ]
  },
  {
   "cell_type": "markdown",
   "id": "ef3a9528",
   "metadata": {},
   "source": [
    "### Date, time handling with pandas"
   ]
  },
  {
   "cell_type": "code",
   "execution_count": 14,
   "id": "40108d9a",
   "metadata": {},
   "outputs": [
    {
     "data": {
      "text/plain": [
       "Timestamp('2012-12-21 05:10:08.000099')"
      ]
     },
     "execution_count": 14,
     "metadata": {},
     "output_type": "execute_result"
    }
   ],
   "source": [
    "pd.Timestamp(year=2012, month=12, day=21, hour=5,\n",
    "             minute=10, second=8, microsecond=99)"
   ]
  },
  {
   "cell_type": "code",
   "execution_count": 15,
   "id": "91c3bb97",
   "metadata": {},
   "outputs": [
    {
     "data": {
      "text/plain": [
       "Timestamp('2016-01-10 00:00:00')"
      ]
     },
     "execution_count": 15,
     "metadata": {},
     "output_type": "execute_result"
    }
   ],
   "source": [
    "pd.Timestamp('2016/1/10')"
   ]
  },
  {
   "cell_type": "code",
   "execution_count": 16,
   "id": "c218485f",
   "metadata": {},
   "outputs": [
    {
     "data": {
      "text/plain": [
       "Timestamp('2014-05-10 00:00:00')"
      ]
     },
     "execution_count": 16,
     "metadata": {},
     "output_type": "execute_result"
    }
   ],
   "source": [
    "pd.Timestamp('2014-5/10')"
   ]
  },
  {
   "cell_type": "code",
   "execution_count": 17,
   "id": "c7c35e80",
   "metadata": {},
   "outputs": [
    {
     "data": {
      "text/plain": [
       "Timestamp('2019-01-03 20:45:33')"
      ]
     },
     "execution_count": 17,
     "metadata": {},
     "output_type": "execute_result"
    }
   ],
   "source": [
    "pd.Timestamp('Jan 3, 2019 20:45.56')"
   ]
  },
  {
   "cell_type": "code",
   "execution_count": 18,
   "id": "9c4497b8",
   "metadata": {},
   "outputs": [
    {
     "data": {
      "text/plain": [
       "Timestamp('2016-01-05 05:34:43.123456789')"
      ]
     },
     "execution_count": 18,
     "metadata": {},
     "output_type": "execute_result"
    }
   ],
   "source": [
    "pd.Timestamp('2016-01-05T05:34:43.123456789')  # UTC format"
   ]
  },
  {
   "cell_type": "code",
   "execution_count": 19,
   "id": "2e8c55db",
   "metadata": {},
   "outputs": [
    {
     "data": {
      "text/plain": [
       "Timestamp('2001-09-05 11:37:35.788540')"
      ]
     },
     "execution_count": 19,
     "metadata": {},
     "output_type": "execute_result"
    }
   ],
   "source": [
    "pd.Timestamp(999689855788540000)   # seconds from UNIX epoch"
   ]
  },
  {
   "cell_type": "code",
   "execution_count": 20,
   "id": "95b84678",
   "metadata": {},
   "outputs": [
    {
     "data": {
      "text/plain": [
       "Timestamp('2199-12-26 00:00:00')"
      ]
     },
     "execution_count": 20,
     "metadata": {},
     "output_type": "execute_result"
    }
   ],
   "source": [
    "pd.Timestamp(84000, unit='D')"
   ]
  },
  {
   "cell_type": "code",
   "execution_count": 21,
   "id": "09e5e841",
   "metadata": {},
   "outputs": [
    {
     "data": {
      "text/plain": [
       "Timestamp('2015-05-13 00:00:00')"
      ]
     },
     "execution_count": 21,
     "metadata": {},
     "output_type": "execute_result"
    }
   ],
   "source": [
    "pd.to_datetime('2015-5-13')"
   ]
  },
  {
   "cell_type": "code",
   "execution_count": 22,
   "id": "0d6aa8ac",
   "metadata": {},
   "outputs": [
    {
     "data": {
      "text/plain": [
       "Timestamp('2015-05-13 00:00:00')"
      ]
     },
     "execution_count": 22,
     "metadata": {},
     "output_type": "execute_result"
    }
   ],
   "source": [
    "pd.to_datetime('2015-13-5', dayfirst=True)"
   ]
  },
  {
   "cell_type": "code",
   "execution_count": 23,
   "id": "96dd2e1e",
   "metadata": {},
   "outputs": [
    {
     "data": {
      "text/plain": [
       "Timestamp('2017-09-30 13:30:00')"
      ]
     },
     "execution_count": 23,
     "metadata": {},
     "output_type": "execute_result"
    }
   ],
   "source": [
    "pd.to_datetime('Start Date: Sep 30, 2017 Start Time: 1:30 pm', \n",
    "               format='Start Date: %b %d, %Y Start Time: %I:%M %p')"
   ]
  },
  {
   "cell_type": "code",
   "execution_count": 24,
   "id": "092f3751",
   "metadata": {},
   "outputs": [
    {
     "data": {
      "text/plain": [
       "Timestamp('2013-04-11 00:00:00')"
      ]
     },
     "execution_count": 24,
     "metadata": {},
     "output_type": "execute_result"
    }
   ],
   "source": [
    "pd.to_datetime(100, unit='D', origin='2013-1-1')"
   ]
  },
  {
   "cell_type": "code",
   "execution_count": 25,
   "id": "b00f828a",
   "metadata": {},
   "outputs": [],
   "source": [
    "s = pd.Series([10, 100, 1000, 10000])"
   ]
  },
  {
   "cell_type": "code",
   "execution_count": 26,
   "id": "ede0cf3b",
   "metadata": {},
   "outputs": [
    {
     "data": {
      "text/plain": [
       "0   1970-01-11\n",
       "1   1970-04-11\n",
       "2   1972-09-27\n",
       "3   1997-05-19\n",
       "dtype: datetime64[ns]"
      ]
     },
     "execution_count": 26,
     "metadata": {},
     "output_type": "execute_result"
    }
   ],
   "source": [
    "pd.to_datetime(s, unit='D')  # can convert total series at once."
   ]
  },
  {
   "cell_type": "code",
   "execution_count": 27,
   "id": "6222de79",
   "metadata": {},
   "outputs": [],
   "source": [
    "s = pd.Series(['12-5-2015', '14-1-2013', '20/12/2017', '40/23/2017'])"
   ]
  },
  {
   "cell_type": "code",
   "execution_count": 28,
   "id": "6c78d1f6",
   "metadata": {},
   "outputs": [
    {
     "data": {
      "text/plain": [
       "0   2015-05-12\n",
       "1   2013-01-14\n",
       "2   2017-12-20\n",
       "3          NaT\n",
       "dtype: datetime64[ns]"
      ]
     },
     "execution_count": 28,
     "metadata": {},
     "output_type": "execute_result"
    }
   ],
   "source": [
    "pd.to_datetime(s, dayfirst=True, errors='coerce')   # coerce will convert invalid format to 'NaT'"
   ]
  },
  {
   "cell_type": "code",
   "execution_count": 29,
   "id": "6c5553e0",
   "metadata": {},
   "outputs": [
    {
     "data": {
      "text/plain": [
       "DatetimeIndex(['1999-08-03 03:45:56', '2017-10-31 00:00:00'], dtype='datetime64[ns]', freq=None)"
      ]
     },
     "execution_count": 29,
     "metadata": {},
     "output_type": "execute_result"
    }
   ],
   "source": [
    "pd.to_datetime(['Aug 3 1999 3:45:56', '10/31/2017'])"
   ]
  },
  {
   "cell_type": "code",
   "execution_count": 30,
   "id": "0b1a9e3e",
   "metadata": {},
   "outputs": [
    {
     "data": {
      "text/plain": [
       "Timedelta('12 days 05:03:00.123456789')"
      ]
     },
     "execution_count": 30,
     "metadata": {},
     "output_type": "execute_result"
    }
   ],
   "source": [
    "pd.Timedelta('12 days 5 hours 3 minutes 123456789 nanoseconds')"
   ]
  },
  {
   "cell_type": "code",
   "execution_count": 31,
   "id": "3173c780",
   "metadata": {},
   "outputs": [
    {
     "data": {
      "text/plain": [
       "Timedelta('5 days 00:07:20.400000')"
      ]
     },
     "execution_count": 31,
     "metadata": {},
     "output_type": "execute_result"
    }
   ],
   "source": [
    "pd.Timedelta(days=5, minutes=7.34)"
   ]
  },
  {
   "cell_type": "code",
   "execution_count": 32,
   "id": "21c6d3bd",
   "metadata": {},
   "outputs": [
    {
     "data": {
      "text/plain": [
       "Timedelta('700 days 00:00:00')"
      ]
     },
     "execution_count": 32,
     "metadata": {},
     "output_type": "execute_result"
    }
   ],
   "source": [
    "pd.Timedelta(100, unit='W')  # weeks unit"
   ]
  },
  {
   "cell_type": "code",
   "execution_count": 33,
   "id": "5bdeeaed",
   "metadata": {},
   "outputs": [
    {
     "data": {
      "text/plain": [
       "Timedelta('2 days 19:15:45.454000')"
      ]
     },
     "execution_count": 33,
     "metadata": {},
     "output_type": "execute_result"
    }
   ],
   "source": [
    "pd.to_timedelta('67:15:45.454')"
   ]
  },
  {
   "cell_type": "code",
   "execution_count": 34,
   "id": "58731cea",
   "metadata": {},
   "outputs": [
    {
     "data": {
      "text/plain": [
       "0   0 days 00:00:00.000000010\n",
       "1   0 days 00:00:00.000000100\n",
       "dtype: timedelta64[ns]"
      ]
     },
     "execution_count": 34,
     "metadata": {},
     "output_type": "execute_result"
    }
   ],
   "source": [
    "pd.to_timedelta(pd.Series([10, 100]))"
   ]
  },
  {
   "cell_type": "code",
   "execution_count": 35,
   "id": "8747df7d",
   "metadata": {},
   "outputs": [],
   "source": [
    "time_strings = ['2 days 24 minutes 89.67 seconds', '00:45:23.6']"
   ]
  },
  {
   "cell_type": "code",
   "execution_count": 36,
   "id": "be949238",
   "metadata": {},
   "outputs": [
    {
     "data": {
      "text/plain": [
       "TimedeltaIndex(['2 days 00:25:29.670000', '0 days 00:45:23.600000'], dtype='timedelta64[ns]', freq=None)"
      ]
     },
     "execution_count": 36,
     "metadata": {},
     "output_type": "execute_result"
    }
   ],
   "source": [
    "pd.to_timedelta(time_strings)"
   ]
  },
  {
   "cell_type": "code",
   "execution_count": 37,
   "id": "072804f2",
   "metadata": {},
   "outputs": [
    {
     "data": {
      "text/plain": [
       "Timedelta('24 days 10:06:00')"
      ]
     },
     "execution_count": 37,
     "metadata": {},
     "output_type": "execute_result"
    }
   ],
   "source": [
    "pd.Timedelta('12 days 5 hours 3 minutes') * 2"
   ]
  },
  {
   "cell_type": "code",
   "execution_count": 38,
   "id": "da031bc9",
   "metadata": {},
   "outputs": [
    {
     "data": {
      "text/plain": [
       "Timedelta('6 days 02:31:30')"
      ]
     },
     "execution_count": 38,
     "metadata": {},
     "output_type": "execute_result"
    }
   ],
   "source": [
    "pd.Timedelta('12 days 5 hours 3 minutes') / 2"
   ]
  },
  {
   "cell_type": "code",
   "execution_count": 39,
   "id": "90e8ac37",
   "metadata": {},
   "outputs": [
    {
     "data": {
      "text/plain": [
       "Timestamp('2017-01-25 10:06:00')"
      ]
     },
     "execution_count": 39,
     "metadata": {},
     "output_type": "execute_result"
    }
   ],
   "source": [
    "pd.Timestamp('1/1/2017') + pd.Timedelta('12 days 5 hours 3 minutes') * 2   # 1 + 24 days.."
   ]
  },
  {
   "cell_type": "code",
   "execution_count": 40,
   "id": "6ab18660",
   "metadata": {},
   "outputs": [],
   "source": [
    "td1 = pd.to_timedelta([10, 100], unit='s')\n",
    "td2 = pd.to_timedelta(['3 hours', '4 hours'])"
   ]
  },
  {
   "cell_type": "code",
   "execution_count": 41,
   "id": "004b0fc0",
   "metadata": {},
   "outputs": [
    {
     "data": {
      "text/plain": [
       "(TimedeltaIndex(['0 days 00:00:10', '0 days 00:01:40'], dtype='timedelta64[ns]', freq=None),\n",
       " TimedeltaIndex(['0 days 03:00:00', '0 days 04:00:00'], dtype='timedelta64[ns]', freq=None))"
      ]
     },
     "execution_count": 41,
     "metadata": {},
     "output_type": "execute_result"
    }
   ],
   "source": [
    "td1, td2"
   ]
  },
  {
   "cell_type": "code",
   "execution_count": 42,
   "id": "ead18722",
   "metadata": {},
   "outputs": [
    {
     "data": {
      "text/plain": [
       "TimedeltaIndex(['0 days 03:00:10', '0 days 04:01:40'], dtype='timedelta64[ns]', freq=None)"
      ]
     },
     "execution_count": 42,
     "metadata": {},
     "output_type": "execute_result"
    }
   ],
   "source": [
    "td1 + td2"
   ]
  },
  {
   "cell_type": "markdown",
   "id": "752a0269",
   "metadata": {},
   "source": [
    "#### Attributes/Methods on Timestamp and Timedelta objects"
   ]
  },
  {
   "cell_type": "code",
   "execution_count": 43,
   "id": "20c3cc97",
   "metadata": {},
   "outputs": [],
   "source": [
    "ts = pd.Timestamp('2016-10-1 4:23:23.9')"
   ]
  },
  {
   "cell_type": "code",
   "execution_count": 44,
   "id": "7bb29129",
   "metadata": {},
   "outputs": [
    {
     "data": {
      "text/plain": [
       "Timestamp('2016-10-01 04:23:23.900000')"
      ]
     },
     "execution_count": 44,
     "metadata": {},
     "output_type": "execute_result"
    }
   ],
   "source": [
    "ts"
   ]
  },
  {
   "cell_type": "code",
   "execution_count": 45,
   "id": "bca4e3f2",
   "metadata": {},
   "outputs": [
    {
     "data": {
      "text/plain": [
       "Timestamp('2016-10-01 05:00:00')"
      ]
     },
     "execution_count": 45,
     "metadata": {},
     "output_type": "execute_result"
    }
   ],
   "source": [
    "ts.ceil('h')  # round to next hour"
   ]
  },
  {
   "cell_type": "code",
   "execution_count": 46,
   "id": "46adb707",
   "metadata": {},
   "outputs": [
    {
     "data": {
      "text/plain": [
       "(10, 275)"
      ]
     },
     "execution_count": 46,
     "metadata": {},
     "output_type": "execute_result"
    }
   ],
   "source": [
    "ts.month, ts.dayofyear"
   ]
  },
  {
   "cell_type": "code",
   "execution_count": 47,
   "id": "c9087a68",
   "metadata": {},
   "outputs": [
    {
     "data": {
      "text/plain": [
       "datetime.datetime(2016, 10, 1, 4, 23, 23, 900000)"
      ]
     },
     "execution_count": 47,
     "metadata": {},
     "output_type": "execute_result"
    }
   ],
   "source": [
    "ts.to_pydatetime()   # pandas to python date object"
   ]
  },
  {
   "cell_type": "code",
   "execution_count": 48,
   "id": "f0ee961e",
   "metadata": {},
   "outputs": [],
   "source": [
    "td = pd.Timedelta(125.8723, unit='h')"
   ]
  },
  {
   "cell_type": "code",
   "execution_count": 49,
   "id": "5d55dc1d",
   "metadata": {},
   "outputs": [
    {
     "data": {
      "text/plain": [
       "453140.28"
      ]
     },
     "execution_count": 49,
     "metadata": {},
     "output_type": "execute_result"
    }
   ],
   "source": [
    "td.total_seconds()   # total converted to seconds"
   ]
  },
  {
   "cell_type": "markdown",
   "id": "2c308677",
   "metadata": {},
   "source": [
    "#### using format param to parse prooves to be fast"
   ]
  },
  {
   "cell_type": "code",
   "execution_count": 50,
   "id": "d02182ca",
   "metadata": {},
   "outputs": [],
   "source": [
    "date_string_list = ['Sep 30 1984'] * 10000"
   ]
  },
  {
   "cell_type": "code",
   "execution_count": 51,
   "id": "ca3f8120",
   "metadata": {},
   "outputs": [
    {
     "name": "stdout",
     "output_type": "stream",
     "text": [
      "2.2 ms ± 12.6 µs per loop (mean ± std. dev. of 7 runs, 100 loops each)\n"
     ]
    }
   ],
   "source": [
    "%timeit pd.to_datetime(date_string_list, format='%b %d %Y')"
   ]
  }
 ],
 "metadata": {
  "kernelspec": {
   "display_name": "Python 3",
   "language": "python",
   "name": "python3"
  },
  "language_info": {
   "codemirror_mode": {
    "name": "ipython",
    "version": 3
   },
   "file_extension": ".py",
   "mimetype": "text/x-python",
   "name": "python",
   "nbconvert_exporter": "python",
   "pygments_lexer": "ipython3",
   "version": "3.8.5"
  }
 },
 "nbformat": 4,
 "nbformat_minor": 5
}
